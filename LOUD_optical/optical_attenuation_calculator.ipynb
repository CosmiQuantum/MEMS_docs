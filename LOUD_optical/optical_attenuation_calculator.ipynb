{
 "cells": [
  {
   "cell_type": "markdown",
   "metadata": {},
   "source": [
    "## Optical Attenuation Calculator\n",
    "\n",
    "The goal of this notebook is to predict the attenuation of an optical beam through a series of fiber interfaces.  This notebook assumes that all loss occurs in the connections between different optical fibers. \n",
    "\n",
    "This notebook uses the following set of benchtop measurements made by Zoe and Hannah on 6/12/2024:\n",
    "\n",
    "\n",
    "| Configuration                                      | Power Meter Reading  |\n",
    "|----------------------------------------------------|----------------------|\n",
    "| LED -> 100 um warm                                 | 270 uW               |\n",
    "| LED -> 100 um cold                                 | 250 uW               |\n",
    "| LED -> 100 um cold -> SMA ADAPTER -> 100 um warm   | 180 uW               |\n",
    "| LED -> 10 um                                       | 0.381 uW             |\n",
    "| LED -> 100 um cold -> SMA ADAPTER -> 10 um fiber   | 0.336 uW             |\n",
    "| LED -> 10 um -> SMA ADAPTER -> 10 um fiber         | 0.159 uW             |\n",
    "| LED -> 10 um -> SMA ADAPTER -> 100 um cold         | 0.366 uW             |\n"
   ]
  },
  {
   "cell_type": "code",
   "execution_count": 24,
   "metadata": {},
   "outputs": [],
   "source": [
    "## Attenuation fractions for each interface from the table above\n",
    "interfaces = {\n",
    "    \"100_SMA_100\" : 180/270,\n",
    "    \"100_SMA_10\"  : 0.336/270,\n",
    "    \"10_SMA_100\"  : 0.366/0.381,\n",
    "    \"10_SMA_10\"   : 0.159/0.381\n",
    "}"
   ]
  },
  {
   "cell_type": "code",
   "execution_count": 25,
   "metadata": {},
   "outputs": [],
   "source": [
    "## Calculates the attenuation for a given fridge configuration\n",
    "def calc_attenuation(fridge, input_power, verbose=True):\n",
    "    for key in fridge:\n",
    "        input_power *= interfaces[fridge[key]]\n",
    "        if verbose:\n",
    "            print(f'{key}: {input_power} uW')\n",
    "    print(\"\\nOutput power: \", input_power, \"uW\")\n",
    "    return input_power"
   ]
  },
  {
   "cell_type": "code",
   "execution_count": 26,
   "metadata": {},
   "outputs": [],
   "source": [
    "## Planned configuration\n",
    "fridge = {\n",
    "    \"vacuum_1\" : \"100_SMA_100\",\n",
    "    \"vacuum_2\" : \"100_SMA_100\",\n",
    "    \"50K     \" : \"100_SMA_100\",\n",
    "    \"4K      \" : \"100_SMA_10\",\n",
    "    \"Cold    \" : \"10_SMA_10\",\n",
    "    \"MC      \" : \"10_SMA_10\",\n",
    "    \"power_meter\" : \"10_SMA_100\"\n",
    "}\n",
    "\n",
    "## Testing new configurations\n",
    "new_fridge = {\n",
    "    \"vacuum1\" : \"100_SMA_100\",\n",
    "    \"vacuum2\" : \"100_SMA_100\",\n",
    "    \"50K\" : \"100_SMA_100\",\n",
    "    \"4K\" : \"100_SMA_10\",\n",
    "    #\"1K\" : \"10_SMA_100\",\n",
    "    #\"Cold\" : \"100_SMA_10\",\n",
    "    #\"MC\" : \"100_SMA_10\",\n",
    "    #\"MC2\" : \"10_SMA_100\",\n",
    "    #\"Cold2\" : \"10_SMA_100\",\n",
    "    #\"Still2\" : \"10_SMA_100\",\n",
    "    \"4K2\" : \"10_SMA_100\",\n",
    "    \"50K2\" : \"100_SMA_100\",\n",
    "    \"vacuum3\" : \"100_SMA_100\",\n",
    "    \"vacuum4\" : \"100_SMA_100\"\n",
    "}"
   ]
  },
  {
   "cell_type": "code",
   "execution_count": 21,
   "metadata": {},
   "outputs": [
    {
     "name": "stdout",
     "output_type": "stream",
     "text": [
      "vacuum_1: 200.0 uW\n",
      "vacuum_2: 133.33333333333331 uW\n",
      "50K     : 88.88888888888887 uW\n",
      "4K      : 0.11061728395061726 uW\n",
      "Cold    : 0.04616311849907649 uW\n",
      "MC      : 0.019264923468118533 uW\n",
      "power_meter: 0.018506461914255597 uW\n",
      "\n",
      "Output power:  0.018506461914255597 uW\n"
     ]
    },
    {
     "data": {
      "text/plain": [
       "0.018506461914255597"
      ]
     },
     "execution_count": 21,
     "metadata": {},
     "output_type": "execute_result"
    }
   ],
   "source": [
    "input = 300       ## input power in uW\n",
    "\n",
    "\n",
    "calc_attenuation(fridge, input)"
   ]
  },
  {
   "cell_type": "code",
   "execution_count": null,
   "metadata": {},
   "outputs": [],
   "source": []
  }
 ],
 "metadata": {
  "kernelspec": {
   "display_name": "base",
   "language": "python",
   "name": "python3"
  },
  "language_info": {
   "codemirror_mode": {
    "name": "ipython",
    "version": 3
   },
   "file_extension": ".py",
   "mimetype": "text/x-python",
   "name": "python",
   "nbconvert_exporter": "python",
   "pygments_lexer": "ipython3",
   "version": "3.9.19"
  }
 },
 "nbformat": 4,
 "nbformat_minor": 2
}
